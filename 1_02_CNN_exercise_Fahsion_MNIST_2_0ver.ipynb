{
  "nbformat": 4,
  "nbformat_minor": 0,
  "metadata": {
    "colab": {
      "provenance": [],
      "machine_shape": "hm",
      "include_colab_link": true
    },
    "kernelspec": {
      "name": "python3",
      "display_name": "Python 3"
    },
    "gpuClass": "premium",
    "accelerator": "GPU"
  },
  "cells": [
    {
      "cell_type": "markdown",
      "metadata": {
        "id": "view-in-github",
        "colab_type": "text"
      },
      "source": [
        "<a href=\"https://colab.research.google.com/github/Oldman3840/AI_Model_Evaluation/blob/main/1_02_CNN_exercise_Fahsion_MNIST_2_0ver.ipynb\" target=\"_parent\"><img src=\"https://colab.research.google.com/assets/colab-badge.svg\" alt=\"Open In Colab\"/></a>"
      ]
    },
    {
      "cell_type": "markdown",
      "metadata": {
        "id": "HZc219MFFibh"
      },
      "source": [
        "# My First Convolutional Neural Network : Fashion MNIST\n",
        "---\n",
        "#### 실습목표\n",
        "1. CNN의 기본 아이디어를 안다.\n",
        "2. CNN의 구조를 그리고, 코드로 옮길 수 있다."
      ]
    },
    {
      "cell_type": "markdown",
      "metadata": {
        "id": "iLYle-HPFNgx"
      },
      "source": [
        "## Real Game : CNN on Fashion MNIST\n",
        "\n",
        "여기에서는 여러분이 직접 코드를 완성해야 하는 문제가 곳곳에 있습니다!"
      ]
    },
    {
      "cell_type": "code",
      "metadata": {
        "id": "SpxQtfTUUI5r"
      },
      "source": [
        "'''\n",
        "라이브러리들을 불러오자.\n",
        "'''\n",
        "import numpy as np\n",
        "import pandas as pd\n",
        "import matplotlib.pyplot as plt\n",
        "\n",
        "import random as rd\n",
        "from sklearn.metrics import accuracy_score\n",
        "\n",
        "import tensorflow as tf\n",
        "from tensorflow import keras"
      ],
      "execution_count": 39,
      "outputs": []
    },
    {
      "cell_type": "markdown",
      "metadata": {
        "id": "dxB_-9itUhFy"
      },
      "source": [
        "### Data Loading"
      ]
    },
    {
      "cell_type": "code",
      "metadata": {
        "id": "4uNApF4YVdf7"
      },
      "source": [
        "(train_x, train_y), (test_x, test_y) = keras.datasets.fashion_mnist.load_data()"
      ],
      "execution_count": 40,
      "outputs": []
    },
    {
      "cell_type": "code",
      "metadata": {
        "id": "0EcfUETOUhIy",
        "outputId": "4dc560da-7cef-45a5-bb3e-de93d011c3c6",
        "colab": {
          "base_uri": "https://localhost:8080/"
        }
      },
      "source": [
        "print(train_x.shape, train_y.shape, test_x.shape, test_y.shape)"
      ],
      "execution_count": 41,
      "outputs": [
        {
          "output_type": "stream",
          "name": "stdout",
          "text": [
            "(60000, 28, 28) (60000,) (10000, 28, 28) (10000,)\n"
          ]
        }
      ]
    },
    {
      "cell_type": "code",
      "metadata": {
        "id": "D7-ICNlAVhIM",
        "outputId": "e4b0b32d-365e-4119-efd2-d906d8fd3c14",
        "colab": {
          "base_uri": "https://localhost:8080/"
        }
      },
      "source": [
        "labels = [\"T-shirt/top\",  # index 0\n",
        "            \"Trouser\",      # index 1\n",
        "            \"Pullover\",     # index 2 \n",
        "            \"Dress\",        # index 3 \n",
        "            \"Coat\",         # index 4\n",
        "            \"Sandal\",       # index 5\n",
        "            \"Shirt\",        # index 6 \n",
        "            \"Sneaker\",      # index 7 \n",
        "            \"Bag\",          # index 8 \n",
        "            \"Ankle boot\"]   # index 9\n",
        "\n",
        "print(labels)"
      ],
      "execution_count": 42,
      "outputs": [
        {
          "output_type": "stream",
          "name": "stdout",
          "text": [
            "['T-shirt/top', 'Trouser', 'Pullover', 'Dress', 'Coat', 'Sandal', 'Shirt', 'Sneaker', 'Bag', 'Ankle boot']\n"
          ]
        }
      ]
    },
    {
      "cell_type": "code",
      "metadata": {
        "id": "06UwAC3JV7uj",
        "outputId": "3878f516-5ae5-4f2f-e72c-8dd290788de6",
        "colab": {
          "base_uri": "https://localhost:8080/",
          "height": 301
        }
      },
      "source": [
        "'''\n",
        "Ctrl+Enter를 이용하여\n",
        "반복 실행 해보자!\n",
        "'''\n",
        "\n",
        "id = rd.randrange(0,10000)\n",
        "\n",
        "print(f'id = {id}')\n",
        "print(f'다음 그림은 {labels[test_y[id]]} 입니다.')\n",
        "\n",
        "plt.imshow(test_x[id], cmap='Greys')\n",
        "plt.show()"
      ],
      "execution_count": 43,
      "outputs": [
        {
          "output_type": "stream",
          "name": "stdout",
          "text": [
            "id = 5221\n",
            "다음 그림은 T-shirt/top 입니다.\n"
          ]
        },
        {
          "output_type": "display_data",
          "data": {
            "text/plain": [
              "<Figure size 432x288 with 1 Axes>"
            ],
            "image/png": "[encoded data removed]"
          },
          "metadata": {
            "needs_background": "light"
          }
        }
      ]
    },
    {
      "cell_type": "markdown",
      "metadata": {
        "id": "ghiwVWATe4I8"
      },
      "source": [
        "### X : Min-Max Scaling\n",
        "\n",
        "- 최소값 0, 최대값 1로 통일하는 스케일링"
      ]
    },
    {
      "cell_type": "code",
      "source": [
        "max_num = train_x.max()\n",
        "\n",
        "train_x = train_x/max_num\n",
        "test_x = test_x/max_num"
      ],
      "metadata": {
        "id": "jhTvt6RNiGGP"
      },
      "execution_count": 44,
      "outputs": []
    },
    {
      "cell_type": "markdown",
      "metadata": {
        "id": "XotXiXZYfNOM"
      },
      "source": [
        "### X : Reshape(# of data, 28, 28, 1)\n",
        "\n",
        "- **끝에 1을 달아서 그레이스케일(흑백)을 명시해준다.**"
      ]
    },
    {
      "cell_type": "code",
      "source": [
        "print(train_x.reshape(train_x.shape[0], train_x.shape[1], train_x.shape[2], 1).shape)\n",
        "print(test_x.reshape(test_x.shape[0], test_x.shape[1], test_x.shape[2], 1).shape)"
      ],
      "metadata": {
        "id": "fcZZW2ZtiISx",
        "outputId": "c1afe0b6-2c6c-4332-8bbe-8629378b5dcb",
        "colab": {
          "base_uri": "https://localhost:8080/"
        }
      },
      "execution_count": 45,
      "outputs": [
        {
          "output_type": "stream",
          "name": "stdout",
          "text": [
            "(60000, 28, 28, 1)\n",
            "(10000, 28, 28, 1)\n"
          ]
        }
      ]
    },
    {
      "cell_type": "markdown",
      "metadata": {
        "id": "SyVgGB6lfCuj"
      },
      "source": [
        "### Y : One-Hot Encoding"
      ]
    },
    {
      "cell_type": "code",
      "source": [
        "from tensorflow.keras.utils import to_categorical\n",
        "\n",
        "train_y_c = to_categorical(train_y)\n",
        "test_y_c = to_categorical(test_y)"
      ],
      "metadata": {
        "id": "vBx9QGnFiKQZ"
      },
      "execution_count": 46,
      "outputs": []
    },
    {
      "cell_type": "code",
      "source": [
        "train_y_c.shape"
      ],
      "metadata": {
        "colab": {
          "base_uri": "https://localhost:8080/"
        },
        "id": "LEosKdJPi1Jq",
        "outputId": "80c93845-f9ef-40c9-cc5e-a0bd82c3f2b9"
      },
      "execution_count": 47,
      "outputs": [
        {
          "output_type": "execute_result",
          "data": {
            "text/plain": [
              "(60000, 10)"
            ]
          },
          "metadata": {},
          "execution_count": 47
        }
      ]
    },
    {
      "cell_type": "markdown",
      "metadata": {
        "id": "mQ_FTTj7XAtC"
      },
      "source": [
        "### 코드를 완성해주세요!\n",
        "\n",
        "- **자유롭게 먼저 해보는 것을 추천**\n",
        "---\n",
        "- **구조를 따라서 코딩을 한다면..**\n",
        "\n",
        "    1. 인풋 레이어\n",
        "    2. Convolution : 필터수 32개, 사이즈(3, 3), same padding\n",
        "    3. BatchNormalization\n",
        "    4. Convolution : 필터수 32개, 사이즈(3, 3), same padding\n",
        "    5. BatchNormalization\n",
        "    6. MaxPooling : 사이즈(2,2) 스트라이드(2,2)\n",
        "    7. DropOut : 25% 비활성화\n",
        "    8. Convolution : 필터수 64개, 사이즈(3, 3), same padding\n",
        "    9. BatchNormalization\n",
        "    10. Convolution : 필터수 64개, 사이즈(3, 3), same padding\n",
        "    11. BatchNormalization\n",
        "    12. MaxPooling : 사이즈(2,2) 스트라이드(2,2)\n",
        "    13. DropOut : 25% 비활성화\n",
        "    14. Flatten\n",
        "    15. Fully Connected Layer : 노드 512개\n",
        "    16. BatchNormalization\n",
        "    17. 아웃풋 레이어"
      ]
    },
    {
      "cell_type": "code",
      "source": [
        "from tensorflow.keras.backend import clear_session\n",
        "from tensorflow.keras.models import Sequential\n",
        "from tensorflow.keras.layers import Input, Dense, Flatten, Conv2D, MaxPool2D, BatchNormalization, Dropout"
      ],
      "metadata": {
        "id": "cc86_w1n-wMQ"
      },
      "execution_count": 48,
      "outputs": []
    },
    {
      "cell_type": "code",
      "source": [
        "# 1. 세션 클리어\n",
        "clear_session()\n",
        "\n",
        "# 2. 모델 사슬처럼 엮기\n",
        "il = Input(shape=(28, 28, 1))\n",
        "\n",
        "cl = Conv2D(filters=32, kernel_size=(3, 3), padding='same', activation='relu')(il)\n",
        "bl = BatchNormalization()(cl)\n",
        "cl = Conv2D(filters=32, kernel_size=(3, 3), padding='same', activation='relu')(bl)\n",
        "bl = BatchNormalization()(cl)\n",
        "ml = MaxPool2D(pool_size=(2, 2), strides=(2, 2))(bl)\n",
        "dl = Dropout(0.25)(ml)\n",
        "\n",
        "cl = Conv2D(filters=64, kernel_size=(3, 3), padding='same', activation='relu')(dl)\n",
        "bl = BatchNormalization()(cl)\n",
        "cl = Conv2D(filters=64, kernel_size=(3, 3), padding='same', activation='relu')(bl)\n",
        "bl = BatchNormalization()(cl)\n",
        "ml = MaxPool2D(pool_size=(2, 2), strides=(2, 2))(bl)\n",
        "dl = Dropout(0.25)(ml)\n",
        "\n",
        "fl = Flatten()(dl)\n",
        "hl = Dense(512, activation='relu')(fl)\n",
        "bl = BatchNormalization()(hl)\n",
        "ol = Dense(10, activation='softmax')(bl)\n",
        "\n",
        "# 3. 모델 시작과 끝 선언\n",
        "model = keras.models.Model(il, ol)\n",
        "\n",
        "# 4. 컴파일\n",
        "model.compile(loss=keras.losses.categorical_crossentropy,\n",
        "              metrics=['accuracy'],\n",
        "              optimizer='adam')\n",
        "\n",
        "# 요약\n",
        "model.summary()\n"
      ],
      "metadata": {
        "id": "QKwJsGdQiMLw",
        "colab": {
          "base_uri": "https://localhost:8080/"
        },
        "outputId": "f61b72f1-7e7a-4239-cbed-b4706e251fd7"
      },
      "execution_count": 49,
      "outputs": [
        {
          "output_type": "stream",
          "name": "stdout",
          "text": [
            "Model: \"model\"\n",
            "_________________________________________________________________\n",
            " Layer (type)                Output Shape              Param #   \n",
            "=================================================================\n",
            " input_1 (InputLayer)        [(None, 28, 28, 1)]       0         \n",
            "                                                                 \n",
            " conv2d (Conv2D)             (None, 28, 28, 32)        320       \n",
            "                                                                 \n",
            " batch_normalization (BatchN  (None, 28, 28, 32)       128       \n",
            " ormalization)                                                   \n",
            "                                                                 \n",
            " conv2d_1 (Conv2D)           (None, 28, 28, 32)        9248      \n",
            "                                                                 \n",
            " batch_normalization_1 (Batc  (None, 28, 28, 32)       128       \n",
            " hNormalization)                                                 \n",
            "                                                                 \n",
            " max_pooling2d (MaxPooling2D  (None, 14, 14, 32)       0         \n",
            " )                                                               \n",
            "                                                                 \n",
            " dropout (Dropout)           (None, 14, 14, 32)        0         \n",
            "                                                                 \n",
            " conv2d_2 (Conv2D)           (None, 14, 14, 64)        18496     \n",
            "                                                                 \n",
            " batch_normalization_2 (Batc  (None, 14, 14, 64)       256       \n",
            " hNormalization)                                                 \n",
            "                                                                 \n",
            " conv2d_3 (Conv2D)           (None, 14, 14, 64)        36928     \n",
            "                                                                 \n",
            " batch_normalization_3 (Batc  (None, 14, 14, 64)       256       \n",
            " hNormalization)                                                 \n",
            "                                                                 \n",
            " max_pooling2d_1 (MaxPooling  (None, 7, 7, 64)         0         \n",
            " 2D)                                                             \n",
            "                                                                 \n",
            " dropout_1 (Dropout)         (None, 7, 7, 64)          0         \n",
            "                                                                 \n",
            " flatten (Flatten)           (None, 3136)              0         \n",
            "                                                                 \n",
            " dense (Dense)               (None, 512)               1606144   \n",
            "                                                                 \n",
            " batch_normalization_4 (Batc  (None, 512)              2048      \n",
            " hNormalization)                                                 \n",
            "                                                                 \n",
            " dense_1 (Dense)             (None, 10)                5130      \n",
            "                                                                 \n",
            "=================================================================\n",
            "Total params: 1,679,082\n",
            "Trainable params: 1,677,674\n",
            "Non-trainable params: 1,408\n",
            "_________________________________________________________________\n"
          ]
        }
      ]
    },
    {
      "cell_type": "markdown",
      "metadata": {
        "id": "LNeCsx1MelTx"
      },
      "source": [
        "### Early Stopping을 활용한 학습\n",
        "\n",
        "- 조건\n",
        "    1. validation_split = 0.2\n",
        "    2. 1 epochs만 관찰해가며 속도가 가장 빠른 batch_size 찾아보기. 128개부터 시작하여 조절해볼 것.\n",
        "    3. EarlyStopping. val_loss가 5 epoch 전과 비교하여 개선되지 않으면 스탑\n",
        "    4. 이미지 시각화를 위해 hist 변수에 학습 과정을 넣어주세요."
      ]
    },
    {
      "cell_type": "code",
      "source": [
        "from tensorflow.keras.callbacks import EarlyStopping\n",
        "\n",
        "es = EarlyStopping(monitor='val_loss',\n",
        "                   min_delta=0,\n",
        "                   patience=5,\n",
        "                   verbose=0,\n",
        "                   restore_best_weights=True)"
      ],
      "metadata": {
        "id": "vQOaxK8tjmRL"
      },
      "execution_count": 50,
      "outputs": []
    },
    {
      "cell_type": "code",
      "source": [
        "hist = model.fit(train_x, train_y_c,\n",
        "          validation_split=0.2,\n",
        "          epochs=10000,\n",
        "          verbose=1,\n",
        "          batch_size=128,\n",
        "          callbacks=[es])"
      ],
      "metadata": {
        "colab": {
          "base_uri": "https://localhost:8080/"
        },
        "id": "PKk4fuFRkF5L",
        "outputId": "4cfbf5a4-9a0a-4236-f7e1-f7b8fda2c339"
      },
      "execution_count": 51,
      "outputs": [
        {
          "output_type": "stream",
          "name": "stdout",
          "text": [
            "Epoch 1/10000\n",
            "375/375 [==============================] - 6s 8ms/step - loss: 0.4129 - accuracy: 0.8529 - val_loss: 0.9695 - val_accuracy: 0.6802\n",
            "Epoch 2/10000\n",
            "375/375 [==============================] - 3s 7ms/step - loss: 0.2759 - accuracy: 0.8997 - val_loss: 0.2440 - val_accuracy: 0.9093\n",
            "Epoch 3/10000\n",
            "375/375 [==============================] - 2s 7ms/step - loss: 0.2370 - accuracy: 0.9130 - val_loss: 0.2267 - val_accuracy: 0.9184\n",
            "Epoch 4/10000\n",
            "375/375 [==============================] - 3s 7ms/step - loss: 0.2167 - accuracy: 0.9206 - val_loss: 0.2179 - val_accuracy: 0.9201\n",
            "Epoch 5/10000\n",
            "375/375 [==============================] - 3s 7ms/step - loss: 0.1906 - accuracy: 0.9293 - val_loss: 0.2078 - val_accuracy: 0.9244\n",
            "Epoch 6/10000\n",
            "375/375 [==============================] - 3s 7ms/step - loss: 0.1750 - accuracy: 0.9345 - val_loss: 0.2342 - val_accuracy: 0.9177\n",
            "Epoch 7/10000\n",
            "375/375 [==============================] - 3s 7ms/step - loss: 0.1589 - accuracy: 0.9408 - val_loss: 0.2031 - val_accuracy: 0.9282\n",
            "Epoch 8/10000\n",
            "375/375 [==============================] - 2s 7ms/step - loss: 0.1469 - accuracy: 0.9445 - val_loss: 0.2133 - val_accuracy: 0.9261\n",
            "Epoch 9/10000\n",
            "375/375 [==============================] - 2s 7ms/step - loss: 0.1331 - accuracy: 0.9491 - val_loss: 0.1956 - val_accuracy: 0.9323\n",
            "Epoch 10/10000\n",
            "375/375 [==============================] - 3s 7ms/step - loss: 0.1174 - accuracy: 0.9571 - val_loss: 0.1955 - val_accuracy: 0.9308\n",
            "Epoch 11/10000\n",
            "375/375 [==============================] - 3s 7ms/step - loss: 0.1077 - accuracy: 0.9597 - val_loss: 0.2325 - val_accuracy: 0.9241\n",
            "Epoch 12/10000\n",
            "375/375 [==============================] - 2s 7ms/step - loss: 0.1005 - accuracy: 0.9622 - val_loss: 0.2030 - val_accuracy: 0.9321\n",
            "Epoch 13/10000\n",
            "375/375 [==============================] - 2s 7ms/step - loss: 0.0893 - accuracy: 0.9664 - val_loss: 0.2312 - val_accuracy: 0.9254\n",
            "Epoch 14/10000\n",
            "375/375 [==============================] - 2s 7ms/step - loss: 0.0778 - accuracy: 0.9720 - val_loss: 0.2181 - val_accuracy: 0.9336\n",
            "Epoch 15/10000\n",
            "375/375 [==============================] - 3s 7ms/step - loss: 0.0750 - accuracy: 0.9726 - val_loss: 0.2314 - val_accuracy: 0.9327\n"
          ]
        }
      ]
    },
    {
      "cell_type": "code",
      "source": [],
      "metadata": {
        "id": "2Eg8B61MYA4u"
      },
      "execution_count": null,
      "outputs": []
    },
    {
      "cell_type": "markdown",
      "source": [
        "### 이미지 시각화"
      ],
      "metadata": {
        "id": "qbS-0UCqIQEy"
      }
    },
    {
      "cell_type": "code",
      "source": [
        "plt.figure(figsize=(10, 5))\n",
        "plt.plot(hist.history['accuracy'])\n",
        "plt.plot(hist.history['val_accuracy'])\n",
        "plt.title('Accuracy : Training vs Validation')\n",
        "plt.ylabel('Accuracy')\n",
        "plt.xlabel('Epoch')\n",
        "plt.legend(['Training', 'Validation'], loc=0)\n",
        "plt.show()"
      ],
      "metadata": {
        "id": "1Y_BdddUIVwx",
        "colab": {
          "base_uri": "https://localhost:8080/",
          "height": 350
        },
        "outputId": "a974ab0d-4b3a-454f-f005-21fef01d586a"
      },
      "execution_count": 52,
      "outputs": [
        {
          "output_type": "display_data",
          "data": {
            "text/plain": [
              "<Figure size 720x360 with 1 Axes>"
            ],
            "image/png": "[encoded data removed]"
          },
          "metadata": {
            "needs_background": "light"
          }
        }
      ]
    },
    {
      "cell_type": "code",
      "source": [
        "plt.figure(figsize=(10, 5))\n",
        "plt.plot(hist.history['loss'])\n",
        "plt.plot(hist.history['val_loss'])\n",
        "plt.title('Loss : Training vs Validation')\n",
        "plt.ylabel('Loss')\n",
        "plt.xlabel('Epoch')\n",
        "plt.legend(['Training', 'Validation'], loc=0)\n",
        "plt.show()"
      ],
      "metadata": {
        "id": "wuftcRqCZwge",
        "colab": {
          "base_uri": "https://localhost:8080/",
          "height": 350
        },
        "outputId": "b0ab534e-e518-40d7-8ec2-32748e99e02b"
      },
      "execution_count": 53,
      "outputs": [
        {
          "output_type": "display_data",
          "data": {
            "text/plain": [
              "<Figure size 720x360 with 1 Axes>"
            ],
            "image/png": "[encoded data removed]"
          },
          "metadata": {
            "needs_background": "light"
          }
        }
      ]
    },
    {
      "cell_type": "code",
      "source": [
        "y_pred = model.predict(test_x)\n",
        "y_pred.shape"
      ],
      "metadata": {
        "id": "am2Tf4DdZ3yi",
        "colab": {
          "base_uri": "https://localhost:8080/"
        },
        "outputId": "8afd8ff1-cc81-4bb4-8b8f-c164467787e8"
      },
      "execution_count": 54,
      "outputs": [
        {
          "output_type": "stream",
          "name": "stdout",
          "text": [
            "313/313 [==============================] - 1s 2ms/step\n"
          ]
        },
        {
          "output_type": "execute_result",
          "data": {
            "text/plain": [
              "(10000, 10)"
            ]
          },
          "metadata": {},
          "execution_count": 54
        }
      ]
    },
    {
      "cell_type": "code",
      "source": [
        "single_y_pred = y_pred.argmax(axis=1)\n",
        "single_y_pred.shape"
      ],
      "metadata": {
        "id": "f4DwXkdLaWWE",
        "colab": {
          "base_uri": "https://localhost:8080/"
        },
        "outputId": "01a69d28-2587-4aca-e2b7-704c9b6a96ba"
      },
      "execution_count": 55,
      "outputs": [
        {
          "output_type": "execute_result",
          "data": {
            "text/plain": [
              "(10000,)"
            ]
          },
          "metadata": {},
          "execution_count": 55
        }
      ]
    },
    {
      "cell_type": "code",
      "source": [
        "print(test_y.shape)\n",
        "single_test_y = test_y_c.argmax(axis=1)\n",
        "print(single_test_y.shape)"
      ],
      "metadata": {
        "id": "IPg7_mzhbNa-",
        "colab": {
          "base_uri": "https://localhost:8080/"
        },
        "outputId": "32c0d70e-1301-4c73-bdbe-8ba3fe4deb42"
      },
      "execution_count": 58,
      "outputs": [
        {
          "output_type": "stream",
          "name": "stdout",
          "text": [
            "(10000,)\n",
            "(10000,)\n"
          ]
        }
      ]
    },
    {
      "cell_type": "code",
      "source": [
        "test_acc = accuracy_score(single_test_y, single_y_pred)\n",
        "\n",
        "print(f'테스트셋 정확도 : {test_acc*100:.2f}%' )"
      ],
      "metadata": {
        "id": "8Nqp7EAoayc8",
        "colab": {
          "base_uri": "https://localhost:8080/"
        },
        "outputId": "abfc27b2-1c1f-4233-e6b7-403857be0a0a"
      },
      "execution_count": 59,
      "outputs": [
        {
          "output_type": "stream",
          "name": "stdout",
          "text": [
            "테스트셋 정확도 : 93.00%\n"
          ]
        }
      ]
    },
    {
      "cell_type": "code",
      "source": [
        "'''\n",
        "성능 확인을 위해\n",
        "Ctrl+Enter를 이용하여\n",
        "반복 실행 해보자!\n",
        "'''\n",
        "\n",
        "id = rd.randrange(0,10000)\n",
        "\n",
        "print(f'id = {id}')\n",
        "print(f'다음 그림은 숫자 {single_test_y[id]} 입니다.')\n",
        "print(f'모델의 예측 : {single_y_pred[id]}')\n",
        "print(f'모델의 카테고리별 확률 : {np.floor(y_pred[id]*100)}')\n",
        "\n",
        "if single_test_y[id] == single_y_pred[id] :\n",
        "    print('정답입니다')\n",
        "else : \n",
        "    print('틀렸어요')\n",
        "    \n",
        "plt.imshow(test_x[id].reshape([28,-1]))\n",
        "plt.show()"
      ],
      "metadata": {
        "id": "XLBZE41IbgIw",
        "colab": {
          "base_uri": "https://localhost:8080/",
          "height": 356
        },
        "outputId": "de8a279b-2ceb-49e3-c523-fe0388d5b109"
      },
      "execution_count": 60,
      "outputs": [
        {
          "output_type": "stream",
          "name": "stdout",
          "text": [
            "id = 715\n",
            "다음 그림은 숫자 2 입니다.\n",
            "모델의 예측 : 2\n",
            "모델의 카테고리별 확률 : [ 0.  0. 70.  0. 27.  0.  1.  0.  0.  0.]\n",
            "정답입니다\n"
          ]
        },
        {
          "output_type": "display_data",
          "data": {
            "text/plain": [
              "<Figure size 432x288 with 1 Axes>"
            ],
            "image/png": "[encoded data removed]"
          },
          "metadata": {
            "needs_background": "light"
          }
        }
      ]
    },
    {
      "cell_type": "code",
      "source": [
        "'''\n",
        "틀린 것만 관찰해보자!\n",
        "\n",
        "Ctrl+Enter를 이용하여\n",
        "반복 실행 해보자!\n",
        "'''\n",
        "\n",
        "true_false = (single_test_y==single_y_pred)\n",
        "f_id = np.where(true_false==False)[0]        # 틀린 것들의 인덱스 반환\n",
        "f_n = len(f_id)                              # 틀린 것들이 총 몇 개나 될까?\n",
        "\n",
        "id = f_id[rd.randrange(0,f_n)]\n",
        "\n",
        "print(f'id = {id}')\n",
        "print(f'다음 그림은 숫자 {single_test_y[id]} 입니다.')\n",
        "print(f'모델의 예측 : {single_y_pred[id]}')\n",
        "print(f'모델의 카테고리별 확률 : {np.floor(y_pred[id]*100)}')\n",
        "\n",
        "if single_test_y[id] == single_y_pred[id] :\n",
        "    print('정답입니다')\n",
        "else : \n",
        "    print('틀렸어요')\n",
        "    \n",
        "plt.imshow(test_x[id].reshape([28,-1]))\n",
        "plt.show()"
      ],
      "metadata": {
        "id": "VPmHJh3le1f0",
        "colab": {
          "base_uri": "https://localhost:8080/",
          "height": 356
        },
        "outputId": "4d0dedc1-c76d-4fac-8837-c239a4350884"
      },
      "execution_count": 66,
      "outputs": [
        {
          "output_type": "stream",
          "name": "stdout",
          "text": [
            "id = 9277\n",
            "다음 그림은 숫자 6 입니다.\n",
            "모델의 예측 : 0\n",
            "모델의 카테고리별 확률 : [45.  0. 16.  0.  6.  0. 30.  0.  0.  0.]\n",
            "틀렸어요\n"
          ]
        },
        {
          "output_type": "display_data",
          "data": {
            "text/plain": [
              "<Figure size 432x288 with 1 Axes>"
            ],
            "image/png": "[encoded data removed]"
          },
          "metadata": {
            "needs_background": "light"
          }
        }
      ]
    }
  ]
}